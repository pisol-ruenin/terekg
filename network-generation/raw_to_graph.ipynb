{
 "cells": [
  {
   "cell_type": "code",
   "execution_count": null,
   "metadata": {},
   "outputs": [],
   "source": [
    "import pandas as pd\n",
    "import networkx as nx\n",
    "import pickle\n",
    "import numpy as np\n",
    "import sklearn.cluster\n",
    "from itertools import permutations\n",
    "import matplotlib.pyplot as plt"
   ]
  },
  {
   "cell_type": "markdown",
   "metadata": {},
   "source": [
    "## Issue Topic"
   ]
  },
  {
   "cell_type": "code",
   "execution_count": null,
   "metadata": {},
   "outputs": [],
   "source": [
    "with open('topdistdf', 'rb') as file:\n",
    "    issue_topic = pd.DataFrame(pickle.load(file))"
   ]
  },
  {
   "cell_type": "code",
   "execution_count": null,
   "metadata": {},
   "outputs": [],
   "source": [
    "issue_topic.head()"
   ]
  },
  {
   "cell_type": "code",
   "execution_count": null,
   "metadata": {},
   "outputs": [],
   "source": [
    "issue_topic['top3topic'] = issue_topic.apply(lambda x: np.array(x['topdist']).argsort()[0:3], axis=1)"
   ]
  },
  {
   "cell_type": "code",
   "execution_count": null,
   "metadata": {},
   "outputs": [],
   "source": [
    "issue_topic['1st'] = np.array(list(map(list, issue_topic['top3topic'].values.tolist())))[:, 0]\n",
    "issue_topic['2nd'] = np.array(list(map(list, issue_topic['top3topic'].values.tolist())))[:, 1]\n",
    "issue_topic['3rd'] = np.array(list(map(list, issue_topic['top3topic'].values.tolist())))[:, 2]"
   ]
  },
  {
   "cell_type": "code",
   "execution_count": null,
   "metadata": {},
   "outputs": [],
   "source": [
    "issue_topic['1st'].value_counts()"
   ]
  },
  {
   "cell_type": "code",
   "execution_count": null,
   "metadata": {},
   "outputs": [],
   "source": [
    "issue_topic['2nd'].value_counts()"
   ]
  },
  {
   "cell_type": "code",
   "execution_count": null,
   "metadata": {},
   "outputs": [],
   "source": [
    "issue_topic['3rd'].value_counts()"
   ]
  },
  {
   "cell_type": "markdown",
   "metadata": {},
   "source": [
    "## Issue dependency"
   ]
  },
  {
   "cell_type": "code",
   "execution_count": null,
   "metadata": {},
   "outputs": [],
   "source": [
    "issue_dependency = pd.read_csv('issuelink.csv', sep=';')\n",
    "issue_dependency = issue_dependency.drop('test', axis=1)"
   ]
  },
  {
   "cell_type": "code",
   "execution_count": null,
   "metadata": {},
   "outputs": [],
   "source": [
    "issue_dependency['relation'].unique()"
   ]
  },
  {
   "cell_type": "code",
   "execution_count": null,
   "metadata": {
    "scrolled": true
   },
   "outputs": [],
   "source": [
    "issue_dependency.head()"
   ]
  },
  {
   "cell_type": "code",
   "execution_count": null,
   "metadata": {},
   "outputs": [],
   "source": [
    "graph_issue_dependency = nx.MultiDiGraph()\n",
    "graph_issue_dependency.add_weighted_edges_from(issue_dependency.to_numpy())"
   ]
  },
  {
   "cell_type": "code",
   "execution_count": null,
   "metadata": {},
   "outputs": [],
   "source": [
    "with open('issue_dependency_graph.pickle', 'wb') as handle:\n",
    "    pickle.dump(graph_issue_dependency, handle, protocol=pickle.HIGHEST_PROTOCOL)"
   ]
  },
  {
   "cell_type": "markdown",
   "metadata": {},
   "source": [
    "## Issue dependency (Grouped)"
   ]
  },
  {
   "cell_type": "code",
   "execution_count": null,
   "metadata": {},
   "outputs": [],
   "source": [
    "issue_dependency_group = issue_dependency.copy()"
   ]
  },
  {
   "cell_type": "code",
   "execution_count": null,
   "metadata": {},
   "outputs": [],
   "source": [
    "issue_dependency_group['relation'] = 'depends'\n",
    "issue_dependency_group = issue_dependency_group.drop_duplicates()"
   ]
  },
  {
   "cell_type": "code",
   "execution_count": null,
   "metadata": {},
   "outputs": [],
   "source": [
    "issue_dependency_group.head()"
   ]
  },
  {
   "cell_type": "code",
   "execution_count": null,
   "metadata": {},
   "outputs": [],
   "source": [
    "graph_issue_dependency_group = nx.MultiDiGraph()\n",
    "graph_issue_dependency_group.add_weighted_edges_from(issue_dependency_group.to_numpy())"
   ]
  },
  {
   "cell_type": "code",
   "execution_count": null,
   "metadata": {},
   "outputs": [],
   "source": [
    "with open('issue_dependency_group_graph.pickle', 'wb') as handle:\n",
    "    pickle.dump(graph_issue_dependency_group, handle, protocol=pickle.HIGHEST_PROTOCOL)"
   ]
  },
  {
   "cell_type": "markdown",
   "metadata": {},
   "source": [
    "# User collaboration"
   ]
  },
  {
   "cell_type": "code",
   "execution_count": null,
   "metadata": {},
   "outputs": [],
   "source": [
    "user_collab = pd.read_csv('team.csv')\n",
    "user_collab['edge'] = 'collab'"
   ]
  },
  {
   "cell_type": "code",
   "execution_count": null,
   "metadata": {},
   "outputs": [],
   "source": [
    "assignee = pd.read_csv('assignee.csv', sep=';')"
   ]
  },
  {
   "cell_type": "code",
   "execution_count": null,
   "metadata": {},
   "outputs": [],
   "source": [
    "assignee.head()"
   ]
  },
  {
   "cell_type": "code",
   "execution_count": null,
   "metadata": {},
   "outputs": [],
   "source": [
    "user_collab = user_collab.set_index('issuekey').join(assignee.set_index('issuekey')).reset_index()\n",
    "user_collab.columns = ['issuekey', 'dev', 'integrator', 'peer', 'tester', 'edge', 'assignee']"
   ]
  },
  {
   "cell_type": "code",
   "execution_count": null,
   "metadata": {},
   "outputs": [],
   "source": [
    "user_collab.head()"
   ]
  },
  {
   "cell_type": "code",
   "execution_count": null,
   "metadata": {},
   "outputs": [],
   "source": [
    "perm = list(permutations(user_collab.drop(['issuekey', 'edge'], axis=1).columns, 2))"
   ]
  },
  {
   "cell_type": "code",
   "execution_count": null,
   "metadata": {},
   "outputs": [],
   "source": [
    "triples_collab = []\n",
    "for pair in perm:\n",
    "    triples_collab.extend(user_collab[list(pair) + ['edge']].dropna().values.tolist())"
   ]
  },
  {
   "cell_type": "code",
   "execution_count": null,
   "metadata": {},
   "outputs": [],
   "source": [
    "triples_collab = set(map(tuple, list(filter(lambda x: x[0]!=x[1], triples_collab))))"
   ]
  },
  {
   "cell_type": "code",
   "execution_count": null,
   "metadata": {},
   "outputs": [],
   "source": [
    "graph_user_collab = nx.MultiDiGraph()"
   ]
  },
  {
   "cell_type": "code",
   "execution_count": null,
   "metadata": {},
   "outputs": [],
   "source": [
    "graph_user_collab.add_weighted_edges_from(triples_collab)"
   ]
  },
  {
   "cell_type": "code",
   "execution_count": null,
   "metadata": {},
   "outputs": [],
   "source": [
    "with open('user_collab_graph.pickle', 'wb') as handle:\n",
    "    pickle.dump(graph_user_collab, handle, protocol=pickle.HIGHEST_PROTOCOL)"
   ]
  },
  {
   "cell_type": "code",
   "execution_count": null,
   "metadata": {},
   "outputs": [],
   "source": [
    "df_collab = pd.DataFrame(triples_collab)"
   ]
  },
  {
   "cell_type": "code",
   "execution_count": null,
   "metadata": {},
   "outputs": [],
   "source": [
    "np.unique(df_collab[0].tolist() + df_collab[1].tolist()).shape"
   ]
  },
  {
   "cell_type": "markdown",
   "metadata": {},
   "source": [
    "## User in issue\n",
    "* same csv file as user collaboration"
   ]
  },
  {
   "cell_type": "code",
   "execution_count": null,
   "metadata": {},
   "outputs": [],
   "source": [
    "issue_dev = user_collab[['issuekey', 'dev']].copy()\n",
    "issue_dev = issue_dev.dropna()\n",
    "issue_dev['role'] = 'dev'\n",
    "issue_dev = issue_dev.drop_duplicates()\n",
    "issue_dev = issue_dev.values.tolist()\n",
    "\n",
    "issue_integrator = user_collab[['issuekey', 'integrator']].copy()\n",
    "issue_integrator = issue_integrator.dropna()\n",
    "issue_integrator['role'] = 'integrator'\n",
    "issue_integrator = issue_integrator.drop_duplicates()\n",
    "issue_integrator = issue_integrator.values.tolist()\n",
    "\n",
    "issue_peer = user_collab[['issuekey', 'peer']].copy()\n",
    "issue_peer = issue_peer.dropna()\n",
    "issue_peer['role'] = 'peer'\n",
    "issue_peer = issue_peer.drop_duplicates()\n",
    "issue_peer = issue_peer.values.tolist()\n",
    "\n",
    "issue_tester = user_collab[['issuekey', 'tester']].copy()\n",
    "issue_tester = issue_tester.dropna()\n",
    "issue_tester['role'] = 'tester'\n",
    "issue_tester = issue_tester.drop_duplicates()\n",
    "issue_tester = issue_tester.values.tolist()\n",
    "\n",
    "issue_assignee = assignee.copy()\n",
    "issue_assignee = issue_assignee.dropna()\n",
    "issue_assignee['role'] = 'assignee'\n",
    "issue_assignee = issue_assignee.drop_duplicates()\n",
    "issue_assignee = issue_assignee.values.tolist()"
   ]
  },
  {
   "cell_type": "code",
   "execution_count": null,
   "metadata": {},
   "outputs": [],
   "source": [
    "role_all = issue_dev+issue_integrator+issue_peer+issue_tester+issue_assignee"
   ]
  },
  {
   "cell_type": "code",
   "execution_count": null,
   "metadata": {},
   "outputs": [],
   "source": [
    "graph_issue_work = nx.MultiDiGraph()"
   ]
  },
  {
   "cell_type": "code",
   "execution_count": null,
   "metadata": {},
   "outputs": [],
   "source": [
    "graph_issue_work.add_weighted_edges_from(role_all)"
   ]
  },
  {
   "cell_type": "code",
   "execution_count": null,
   "metadata": {},
   "outputs": [],
   "source": [
    "with open('user_work_graph.pickle', 'wb') as handle:\n",
    "    pickle.dump(graph_issue_work, handle, protocol=pickle.HIGHEST_PROTOCOL)"
   ]
  },
  {
   "cell_type": "code",
   "execution_count": null,
   "metadata": {},
   "outputs": [],
   "source": [
    "pd.DataFrame(role_all)"
   ]
  },
  {
   "cell_type": "markdown",
   "metadata": {},
   "source": [
    "## User Interaction"
   ]
  },
  {
   "cell_type": "code",
   "execution_count": null,
   "metadata": {},
   "outputs": [],
   "source": [
    "def k_means(data, n_clusters, log=False):\n",
    "    data = data.to_numpy().reshape(-1,1)\n",
    "    data = np.log(data + 1) if log else data\n",
    "\n",
    "    model = sklearn.cluster.KMeans(n_clusters=n_clusters, n_init=5, random_state=0)\n",
    "    model.fit(data)\n",
    "    \n",
    "    values = np.linspace(data.min(), data.max(), 10000).reshape(-1,1)\n",
    "    cls    = model.predict(values)\n",
    "    values = values.flatten()\n",
    "    cls    = pd.DataFrame({'value' : values, 'class' : cls})\n",
    "    \n",
    "    thresholds = cls.groupby('class').min().to_numpy().flatten()\n",
    "    thresholds = np.exp(thresholds) - 1 if log else thresholds\n",
    "    thresholds = np.sort(thresholds)[1:]\n",
    "    thresholds = thresholds.tolist()\n",
    "    \n",
    "    return thresholds"
   ]
  },
  {
   "cell_type": "code",
   "execution_count": null,
   "metadata": {},
   "outputs": [],
   "source": [
    "user_interaction = pd.read_csv('global_pair_score.csv')"
   ]
  },
  {
   "cell_type": "code",
   "execution_count": null,
   "metadata": {},
   "outputs": [],
   "source": [
    "user_interaction.head()"
   ]
  },
  {
   "cell_type": "code",
   "execution_count": null,
   "metadata": {},
   "outputs": [],
   "source": [
    "user_interaction_pos = user_interaction[['tagger', 'taggee', 'positivescore']].copy()\n",
    "user_interaction_pos.columns = ['tagger', 'taggee', 'score']\n",
    "user_interaction_neg = user_interaction[['tagger', 'taggee', 'negativescore']].copy()\n",
    "user_interaction_neg.columns = ['tagger', 'taggee', 'score']"
   ]
  },
  {
   "cell_type": "code",
   "execution_count": null,
   "metadata": {},
   "outputs": [],
   "source": [
    "thresholds_pos = k_means(user_interaction['positivescore'], 3, log=True)\n",
    "thresholds_neg = k_means(user_interaction['negativescore'], 3, log=True)"
   ]
  },
  {
   "cell_type": "code",
   "execution_count": null,
   "metadata": {},
   "outputs": [],
   "source": [
    "user_interaction_pos.loc[user_interaction_pos['score']<thresholds_pos[0], 'relation'] = 'low_positive_interaction_score'\n",
    "user_interaction_pos.loc[(user_interaction_pos['score']>=thresholds_pos[0]) & (user_interaction_pos['score']<thresholds_pos[1]), 'relation'] = 'medium_positive_interaction_score'\n",
    "user_interaction_pos.loc[user_interaction_pos['score']>=thresholds_pos[1], 'relation'] = 'high_positive_interaction_score'"
   ]
  },
  {
   "cell_type": "code",
   "execution_count": null,
   "metadata": {},
   "outputs": [],
   "source": [
    "user_interaction_pos.head()"
   ]
  },
  {
   "cell_type": "code",
   "execution_count": null,
   "metadata": {},
   "outputs": [],
   "source": [
    "user_interaction_neg.loc[user_interaction_neg['score']<thresholds_neg[0], 'relation'] = 'low_negative_interaction_score'\n",
    "user_interaction_neg.loc[(user_interaction_neg['score']>=thresholds_neg[0]) & (user_interaction_neg['score']<thresholds_neg[1]), 'relation'] = 'medium_negative_interaction_score'\n",
    "user_interaction_neg.loc[user_interaction_neg['score']>=thresholds_neg[1], 'relation'] = 'high_negative_interaction_score'"
   ]
  },
  {
   "cell_type": "code",
   "execution_count": null,
   "metadata": {},
   "outputs": [],
   "source": [
    "user_interaction_neg.head()"
   ]
  },
  {
   "cell_type": "code",
   "execution_count": null,
   "metadata": {},
   "outputs": [],
   "source": [
    "triples_interaction_pos = user_interaction_pos.drop('score', axis=1)\n",
    "triples_interaction_pos = triples_interaction_pos.values.tolist()\n",
    "triples_interaction_neg = user_interaction_neg.drop('score', axis=1)\n",
    "triples_interaction_neg = triples_interaction_neg.values.tolist()"
   ]
  },
  {
   "cell_type": "code",
   "execution_count": null,
   "metadata": {},
   "outputs": [],
   "source": [
    "graph_user_interaction = nx.MultiDiGraph()"
   ]
  },
  {
   "cell_type": "code",
   "execution_count": null,
   "metadata": {},
   "outputs": [],
   "source": [
    "graph_user_interaction.add_weighted_edges_from(triples_interaction_pos+triples_interaction_neg)"
   ]
  },
  {
   "cell_type": "markdown",
   "metadata": {},
   "source": [
    "## User Interaction (grouped)"
   ]
  },
  {
   "cell_type": "code",
   "execution_count": null,
   "metadata": {},
   "outputs": [],
   "source": [
    "user_interaction_group = user_interaction[['tagger', 'taggee']].copy()"
   ]
  },
  {
   "cell_type": "code",
   "execution_count": null,
   "metadata": {},
   "outputs": [],
   "source": [
    "user_interaction_group['relation'] = 'interacts'"
   ]
  },
  {
   "cell_type": "code",
   "execution_count": null,
   "metadata": {},
   "outputs": [],
   "source": [
    "user_interaction_group.head()"
   ]
  },
  {
   "cell_type": "code",
   "execution_count": null,
   "metadata": {},
   "outputs": [],
   "source": [
    "graph_user_interaction_group = nx.MultiDiGraph()\n",
    "graph_user_interaction_group.add_weighted_edges_from(user_interaction_group.to_numpy())"
   ]
  },
  {
   "cell_type": "markdown",
   "metadata": {},
   "source": [
    "## User expertise & Issue skill required"
   ]
  },
  {
   "cell_type": "code",
   "execution_count": null,
   "metadata": {},
   "outputs": [],
   "source": [
    "with open('PtoI', 'rb') as file:\n",
    "    p_to_i = pickle.load(file)"
   ]
  },
  {
   "cell_type": "code",
   "execution_count": null,
   "metadata": {},
   "outputs": [],
   "source": [
    "with open('ItoC', 'rb') as file:\n",
    "    i_to_c = pickle.load(file)"
   ]
  },
  {
   "cell_type": "code",
   "execution_count": null,
   "metadata": {},
   "outputs": [],
   "source": [
    "triples_user_skill = []\n",
    "for user in p_to_i:\n",
    "    if user=='dobedobedoh':\n",
    "        print('aaa')\n",
    "    for issue in p_to_i[user]:\n",
    "        try:\n",
    "            user_skill = [(user, skill, 'expert') for skill in i_to_c[issue]]\n",
    "            triples_user_skill.extend(user_skill)\n",
    "        except KeyError:\n",
    "            continue\n",
    "triples_user_skill = set(triples_user_skill)"
   ]
  },
  {
   "cell_type": "code",
   "execution_count": null,
   "metadata": {},
   "outputs": [],
   "source": [
    "triples_issue_skill = []\n",
    "for issue in i_to_c:\n",
    "    issue_skill = [(issue, skill, 'required') for skill in i_to_c[issue]]\n",
    "    triples_issue_skill.extend(issue_skill)\n",
    "triples_issue_skill = set(triples_issue_skill)"
   ]
  },
  {
   "cell_type": "code",
   "execution_count": null,
   "metadata": {},
   "outputs": [],
   "source": [
    "graph_user_expertise = nx.MultiDiGraph()\n",
    "graph_user_expertise.add_weighted_edges_from(triples_user_skill)"
   ]
  },
  {
   "cell_type": "code",
   "execution_count": null,
   "metadata": {},
   "outputs": [],
   "source": [
    "pd.DataFrame(triples_user_skill)"
   ]
  },
  {
   "cell_type": "code",
   "execution_count": null,
   "metadata": {},
   "outputs": [],
   "source": [
    "graph_issue_skill = nx.MultiDiGraph()\n",
    "graph_issue_skill.add_weighted_edges_from(triples_issue_skill)"
   ]
  },
  {
   "cell_type": "code",
   "execution_count": null,
   "metadata": {},
   "outputs": [],
   "source": [
    "pd.DataFrame(triples_issue_skill)"
   ]
  },
  {
   "cell_type": "code",
   "execution_count": null,
   "metadata": {},
   "outputs": [],
   "source": [
    "skill_graph = nx.compose(graph_user_expertise, graph_issue_skill)"
   ]
  },
  {
   "cell_type": "code",
   "execution_count": null,
   "metadata": {},
   "outputs": [],
   "source": [
    "with open('skill_graph.pickle', 'wb') as handle:\n",
    "    pickle.dump(skill_graph, handle, protocol=pickle.HIGHEST_PROTOCOL)"
   ]
  },
  {
   "cell_type": "markdown",
   "metadata": {},
   "source": [
    "## Issue priority"
   ]
  },
  {
   "cell_type": "code",
   "execution_count": null,
   "metadata": {},
   "outputs": [],
   "source": [
    "issue_information = pd.read_csv('issueinformation.csv', sep=';')"
   ]
  },
  {
   "cell_type": "code",
   "execution_count": null,
   "metadata": {},
   "outputs": [],
   "source": [
    "issue_information.head()"
   ]
  },
  {
   "cell_type": "code",
   "execution_count": null,
   "metadata": {},
   "outputs": [],
   "source": [
    "issue_information['priority'].unique()"
   ]
  },
  {
   "cell_type": "code",
   "execution_count": null,
   "metadata": {},
   "outputs": [],
   "source": [
    "issue_information['priority'] = issue_information['priority'].fillna('None')\n",
    "issue_information['relation'] = 'prioritize'"
   ]
  },
  {
   "cell_type": "code",
   "execution_count": null,
   "metadata": {},
   "outputs": [],
   "source": [
    "triples_priority = issue_information[['issuekey', 'priority', 'relation']].values.tolist()"
   ]
  },
  {
   "cell_type": "code",
   "execution_count": null,
   "metadata": {},
   "outputs": [],
   "source": [
    "graph_priority = nx.MultiDiGraph()\n",
    "graph_priority.add_weighted_edges_from(triples_priority)"
   ]
  },
  {
   "cell_type": "markdown",
   "metadata": {},
   "source": [
    "## Issue - Project"
   ]
  },
  {
   "cell_type": "code",
   "execution_count": null,
   "metadata": {},
   "outputs": [],
   "source": [
    "issue_information['project'] = issue_information['issuekey'].apply(lambda x: x.split('-')[0])"
   ]
  },
  {
   "cell_type": "code",
   "execution_count": null,
   "metadata": {},
   "outputs": [],
   "source": [
    "issue_information['relation'] = 'contains issue'"
   ]
  },
  {
   "cell_type": "code",
   "execution_count": null,
   "metadata": {},
   "outputs": [],
   "source": [
    "issue_information.head()"
   ]
  },
  {
   "cell_type": "code",
   "execution_count": null,
   "metadata": {},
   "outputs": [],
   "source": [
    "triples_project_issue = issue_information[['project', 'issuekey', 'relation']].values.tolist()"
   ]
  },
  {
   "cell_type": "code",
   "execution_count": null,
   "metadata": {},
   "outputs": [],
   "source": [
    "graph_project_issue = nx.MultiDiGraph()\n",
    "graph_project_issue.add_weighted_edges_from(triples_project_issue)"
   ]
  },
  {
   "cell_type": "code",
   "execution_count": null,
   "metadata": {},
   "outputs": [],
   "source": [
    "with open('issue_project_graph.pickle', 'wb') as handle:\n",
    "    pickle.dump(graph_project_issue, handle, protocol=pickle.HIGHEST_PROTOCOL)"
   ]
  },
  {
   "cell_type": "code",
   "execution_count": null,
   "metadata": {},
   "outputs": [],
   "source": [
    "pd.DataFrame(triples_project_issue).shape[0]"
   ]
  },
  {
   "cell_type": "markdown",
   "metadata": {},
   "source": [
    "## Issue - Type"
   ]
  },
  {
   "cell_type": "code",
   "execution_count": null,
   "metadata": {},
   "outputs": [],
   "source": [
    "issue_information['relation'] = 'type'"
   ]
  },
  {
   "cell_type": "code",
   "execution_count": null,
   "metadata": {},
   "outputs": [],
   "source": [
    "triples_issue_type = issue_information[['issuekey', 'type', 'relation']].values.tolist()"
   ]
  },
  {
   "cell_type": "code",
   "execution_count": null,
   "metadata": {},
   "outputs": [],
   "source": [
    "graph_issue_type = nx.MultiDiGraph()\n",
    "graph_issue_type.add_weighted_edges_from(triples_issue_type)"
   ]
  },
  {
   "cell_type": "code",
   "execution_count": null,
   "metadata": {},
   "outputs": [],
   "source": [
    "with open('issue_type_graph.pickle', 'wb') as handle:\n",
    "    pickle.dump(graph_issue_type, handle, protocol=pickle.HIGHEST_PROTOCOL)"
   ]
  },
  {
   "cell_type": "markdown",
   "metadata": {},
   "source": [
    "## Month-Year Issue"
   ]
  },
  {
   "cell_type": "code",
   "execution_count": null,
   "metadata": {},
   "outputs": [],
   "source": [
    "month_year_issue = issue_information[['issuekey']].copy()\n",
    "month_year_issue['createdate'] = pd.to_datetime(issue_information['createdate']).dt.strftime(\"%m-%Y\")\n",
    "month_year_issue['relation'] = 'created_on'"
   ]
  },
  {
   "cell_type": "code",
   "execution_count": null,
   "metadata": {},
   "outputs": [],
   "source": [
    "month_year_issue.head()"
   ]
  },
  {
   "cell_type": "code",
   "execution_count": null,
   "metadata": {},
   "outputs": [],
   "source": [
    "triples_month_year_issue = month_year_issue.values.tolist()"
   ]
  },
  {
   "cell_type": "code",
   "execution_count": null,
   "metadata": {},
   "outputs": [],
   "source": [
    "graph_month_year_issue = nx.MultiDiGraph()\n",
    "graph_month_year_issue.add_weighted_edges_from(triples_month_year_issue)"
   ]
  },
  {
   "cell_type": "code",
   "execution_count": null,
   "metadata": {},
   "outputs": [],
   "source": [
    "pd.DataFrame(triples_month_year_issue).shape[0]"
   ]
  },
  {
   "cell_type": "markdown",
   "metadata": {},
   "source": [
    "## Month-Year"
   ]
  },
  {
   "cell_type": "code",
   "execution_count": null,
   "metadata": {},
   "outputs": [],
   "source": [
    "month_year = pd.to_datetime(issue_information['createdate']).sort_values().dt.strftime(\"%m-%Y\")\n",
    "month_year = pd.DataFrame(pd.to_datetime(month_year).unique(), columns=['month_year'])\n",
    "month_year['month_year'] = month_year['month_year'].dt.strftime(\"%m-%Y\")\n",
    "month_year = month_year.values.flatten()"
   ]
  },
  {
   "cell_type": "code",
   "execution_count": null,
   "metadata": {},
   "outputs": [],
   "source": [
    "triples_month_year = []\n",
    "for i in range(month_year.size-1):\n",
    "    triples_month_year.append((month_year[i], month_year[i+1], 'next_month'))"
   ]
  },
  {
   "cell_type": "code",
   "execution_count": null,
   "metadata": {},
   "outputs": [],
   "source": [
    "graph_month_year = nx.MultiDiGraph()\n",
    "graph_month_year.add_weighted_edges_from(triples_month_year)"
   ]
  },
  {
   "cell_type": "code",
   "execution_count": null,
   "metadata": {},
   "outputs": [],
   "source": [
    "pd.DataFrame(triples_month_year).shape"
   ]
  },
  {
   "cell_type": "markdown",
   "metadata": {},
   "source": [
    "## Timezone"
   ]
  },
  {
   "cell_type": "code",
   "execution_count": null,
   "metadata": {},
   "outputs": [],
   "source": [
    "timezone = pd.read_csv('./user_timezone.csv')"
   ]
  },
  {
   "cell_type": "code",
   "execution_count": null,
   "metadata": {},
   "outputs": [],
   "source": [
    "timezone.head()"
   ]
  },
  {
   "cell_type": "code",
   "execution_count": null,
   "metadata": {},
   "outputs": [],
   "source": [
    "triples_user_city = timezone.drop('continent', axis=1)\n",
    "triples_user_city['relation'] = 'lives in'\n",
    "triples_user_city = triples_user_city.drop_duplicates()\n",
    "triples_user_city = triples_user_city.to_numpy()"
   ]
  },
  {
   "cell_type": "code",
   "execution_count": null,
   "metadata": {},
   "outputs": [],
   "source": [
    "triples_city_continent = timezone.drop('username', axis=1)\n",
    "triples_city_continent = triples_city_continent.drop_duplicates()[['city','continent']]\n",
    "triples_city_continent['relation'] = 'locates in'\n",
    "triples_city_continent = triples_city_continent.to_numpy()"
   ]
  },
  {
   "cell_type": "code",
   "execution_count": null,
   "metadata": {},
   "outputs": [],
   "source": [
    "graph_timezone = nx.MultiDiGraph()\n",
    "graph_timezone.add_weighted_edges_from(triples_user_city)\n",
    "graph_timezone.add_weighted_edges_from(triples_city_continent)"
   ]
  },
  {
   "cell_type": "markdown",
   "metadata": {},
   "source": [
    "## Pair Score"
   ]
  },
  {
   "cell_type": "code",
   "execution_count": null,
   "metadata": {},
   "outputs": [],
   "source": [
    "pair_score = pd.read_csv('pair_score.csv')"
   ]
  },
  {
   "cell_type": "code",
   "execution_count": null,
   "metadata": {},
   "outputs": [],
   "source": [
    "pair_score.head()"
   ]
  },
  {
   "cell_type": "code",
   "execution_count": null,
   "metadata": {},
   "outputs": [],
   "source": [
    "triples_pair_score = pair_score[['tagger', 'taggee']].copy()\n",
    "triples_pair_score['relation'] = 'interacts'\n",
    "triples_pair_score = triples_pair_score.to_numpy()"
   ]
  },
  {
   "cell_type": "code",
   "execution_count": null,
   "metadata": {},
   "outputs": [],
   "source": [
    "graph_pair_score = nx.MultiDiGraph()\n",
    "graph_pair_score.add_weighted_edges_from(triples_pair_score)"
   ]
  },
  {
   "cell_type": "code",
   "execution_count": null,
   "metadata": {},
   "outputs": [],
   "source": []
  },
  {
   "cell_type": "markdown",
   "metadata": {},
   "source": [
    "## Graph union"
   ]
  },
  {
   "cell_type": "code",
   "execution_count": null,
   "metadata": {},
   "outputs": [],
   "source": [
    "# user work + skill\n",
    "graph01 = nx.compose(graph_issue_skill, graph_user_expertise)\n",
    "graph01 = nx.compose(graph01, graph_issue_work)"
   ]
  },
  {
   "cell_type": "code",
   "execution_count": null,
   "metadata": {},
   "outputs": [],
   "source": [
    "# user work + skill + issue_dependencies\n",
    "graph02 = nx.compose(graph_issue_skill, graph_user_expertise)\n",
    "graph02 = nx.compose(graph02, graph_issue_work)\n",
    "graph02 = nx.compose(graph02, graph_issue_dependency)"
   ]
  },
  {
   "cell_type": "code",
   "execution_count": null,
   "metadata": {},
   "outputs": [],
   "source": [
    "# user work + skill + issue_dependencies + user collabolation\n",
    "graph03 = nx.compose(graph_issue_skill, graph_user_expertise)\n",
    "graph03 = nx.compose(graph03, graph_issue_work)\n",
    "graph03 = nx.compose(graph03, graph_issue_dependency)\n",
    "graph03 = nx.compose(graph03, graph_user_collab)"
   ]
  },
  {
   "cell_type": "code",
   "execution_count": null,
   "metadata": {},
   "outputs": [],
   "source": [
    "# user work + skill + issue_dependencies + user collabolation + project-issue\n",
    "graph04 = nx.compose(graph_issue_skill, graph_user_expertise)\n",
    "graph04 = nx.compose(graph04, graph_issue_work)\n",
    "graph04 = nx.compose(graph04, graph_issue_dependency)\n",
    "graph04 = nx.compose(graph04, graph_user_collab)\n",
    "graph04 = nx.compose(graph04, graph_project_issue)"
   ]
  },
  {
   "cell_type": "code",
   "execution_count": null,
   "metadata": {},
   "outputs": [],
   "source": [
    "# user work + skill + issue_dependencies + user collabolation + project-issue + date\n",
    "graph05 = nx.compose(graph_issue_skill, graph_user_expertise)\n",
    "graph05 = nx.compose(graph05, graph_issue_work)\n",
    "graph05 = nx.compose(graph05, graph_issue_dependency)\n",
    "graph05 = nx.compose(graph05, graph_user_collab)\n",
    "graph05 = nx.compose(graph05, graph_project_issue)\n",
    "graph05 = nx.compose(graph05, graph_month_year_issue)\n",
    "graph05 = nx.compose(graph05, graph_month_year)"
   ]
  },
  {
   "cell_type": "code",
   "execution_count": null,
   "metadata": {},
   "outputs": [],
   "source": [
    "# user work + skill + issue_dependencies + user collabolation + project-issue + date + user_interaction\n",
    "graph06 = nx.compose(graph_issue_skill, graph_user_expertise)\n",
    "graph06 = nx.compose(graph06, graph_issue_work)\n",
    "graph06 = nx.compose(graph06, graph_issue_dependency)\n",
    "graph06 = nx.compose(graph06, graph_user_collab)\n",
    "graph06 = nx.compose(graph06, graph_project_issue)\n",
    "graph06 = nx.compose(graph06, graph_month_year_issue)\n",
    "graph06 = nx.compose(graph06, graph_month_year)\n",
    "graph06 = nx.compose(graph06, graph_user_interaction)"
   ]
  },
  {
   "cell_type": "code",
   "execution_count": null,
   "metadata": {},
   "outputs": [],
   "source": [
    "# user work + skill + issue_dependencies (grouped)\n",
    "graph07 = nx.compose(graph_issue_skill, graph_user_expertise)\n",
    "graph07 = nx.compose(graph07, graph_issue_work)\n",
    "graph07 = nx.compose(graph07, graph_issue_dependency_group)"
   ]
  },
  {
   "cell_type": "code",
   "execution_count": null,
   "metadata": {},
   "outputs": [],
   "source": [
    "# user work + skill + user_interaction (grouped)\n",
    "graph08 = nx.compose(graph_issue_skill, graph_user_expertise)\n",
    "graph08 = nx.compose(graph08, graph_issue_work)\n",
    "graph08 = nx.compose(graph08, graph_user_interaction_group)"
   ]
  },
  {
   "cell_type": "code",
   "execution_count": null,
   "metadata": {},
   "outputs": [],
   "source": [
    "# user work + skill + user collabolation + project-issue + date\n",
    "graph09 = nx.compose(graph_issue_skill, graph_user_expertise)\n",
    "graph09 = nx.compose(graph09, graph_issue_work)\n",
    "graph09 = nx.compose(graph09, graph_user_collab)\n",
    "graph09 = nx.compose(graph09, graph_project_issue)\n",
    "graph09 = nx.compose(graph09, graph_month_year_issue)\n",
    "graph09 = nx.compose(graph09, graph_month_year)"
   ]
  },
  {
   "cell_type": "code",
   "execution_count": null,
   "metadata": {},
   "outputs": [],
   "source": [
    "# user work + skill + issue_dependencies + user collabolation + project-issue + date + user_interaction (grouped)\n",
    "graph10 = nx.compose(graph_issue_skill, graph_user_expertise)\n",
    "graph10 = nx.compose(graph10, graph_issue_work)\n",
    "graph10 = nx.compose(graph10, graph_issue_dependency)\n",
    "graph10 = nx.compose(graph10, graph_user_collab)\n",
    "graph10 = nx.compose(graph10, graph_project_issue)\n",
    "graph10 = nx.compose(graph10, graph_month_year_issue)\n",
    "graph10 = nx.compose(graph10, graph_month_year)\n",
    "graph10 = nx.compose(graph10, graph_user_interaction_group)"
   ]
  },
  {
   "cell_type": "code",
   "execution_count": null,
   "metadata": {},
   "outputs": [],
   "source": [
    "# user work + skill + issue_dependencies + user collabolation + project-issue + date + timezone\n",
    "graph11 = nx.compose(graph_issue_skill, graph_user_expertise)\n",
    "graph11 = nx.compose(graph11, graph_issue_work)\n",
    "graph11 = nx.compose(graph11, graph_issue_dependency)\n",
    "graph11 = nx.compose(graph11, graph_user_collab)\n",
    "graph11 = nx.compose(graph11, graph_project_issue)\n",
    "graph11 = nx.compose(graph11, graph_month_year_issue)\n",
    "graph11 = nx.compose(graph11, graph_month_year)\n",
    "graph11 = nx.compose(graph11, graph_timezone)"
   ]
  },
  {
   "cell_type": "code",
   "execution_count": null,
   "metadata": {},
   "outputs": [],
   "source": [
    "# user work + skill + issue_dependencies + user collabolation + project-issue + date + user_interaction (grouped + no trust propagation)\n",
    "graph12 = nx.compose(graph_issue_skill, graph_user_expertise)\n",
    "graph12 = nx.compose(graph12, graph_issue_work)\n",
    "graph12 = nx.compose(graph12, graph_issue_dependency)\n",
    "graph12 = nx.compose(graph12, graph_user_collab)\n",
    "graph12 = nx.compose(graph12, graph_project_issue)\n",
    "graph12 = nx.compose(graph12, graph_month_year_issue)\n",
    "graph12 = nx.compose(graph12, graph_month_year)\n",
    "graph12 = nx.compose(graph12, graph_pair_score)"
   ]
  },
  {
   "cell_type": "code",
   "execution_count": null,
   "metadata": {},
   "outputs": [],
   "source": [
    "# user work + skill + user_interaction (grouped + no trust propagation)\n",
    "graph13 = nx.compose(graph_issue_skill, graph_user_expertise)\n",
    "graph13 = nx.compose(graph13, graph_issue_work)\n",
    "graph13 = nx.compose(graph13, graph_pair_score)"
   ]
  },
  {
   "cell_type": "code",
   "execution_count": null,
   "metadata": {},
   "outputs": [],
   "source": [
    "# user work + skill + issue_dependencies + user collabolation + project-issue + date\n",
    "graph14 = nx.compose(graph_issue_skill, graph_user_expertise)\n",
    "graph14 = nx.compose(graph14, graph_issue_work)\n",
    "graph14 = nx.compose(graph14, graph_issue_dependency)\n",
    "graph14 = nx.compose(graph14, graph_user_collab)\n",
    "graph14 = nx.compose(graph14, graph_project_issue)\n",
    "graph14 = nx.compose(graph14, graph_month_year_issue)\n",
    "graph14 = nx.compose(graph14, graph_month_year)\n",
    "graph14 = nx.compose(graph14, graph_issue_type)"
   ]
  },
  {
   "cell_type": "markdown",
   "metadata": {},
   "source": [
    "## Write to file"
   ]
  },
  {
   "cell_type": "code",
   "execution_count": null,
   "metadata": {},
   "outputs": [],
   "source": [
    "with open('graph14.pickle', 'wb') as handle:\n",
    "    pickle.dump(graph14, handle, protocol=pickle.HIGHEST_PROTOCOL)"
   ]
  }
 ],
 "metadata": {
  "kernelspec": {
   "display_name": "Python 3",
   "language": "python",
   "name": "python3"
  },
  "language_info": {
   "codemirror_mode": {
    "name": "ipython",
    "version": 3
   },
   "file_extension": ".py",
   "mimetype": "text/x-python",
   "name": "python",
   "nbconvert_exporter": "python",
   "pygments_lexer": "ipython3",
   "version": "3.7.9"
  }
 },
 "nbformat": 4,
 "nbformat_minor": 4
}
