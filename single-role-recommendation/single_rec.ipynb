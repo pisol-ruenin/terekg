{
 "cells": [
  {
   "cell_type": "code",
   "execution_count": null,
   "metadata": {},
   "outputs": [],
   "source": [
    "import os\n",
    "from tqdm import tqdm\n",
    "os.environ[\"CUDA_VISIBLE_DEVICES\"] = \"1\""
   ]
  },
  {
   "cell_type": "code",
   "execution_count": null,
   "metadata": {},
   "outputs": [],
   "source": [
    "import json\n",
    "from ampligraph.latent_features import ConvKB\n",
    "from ampligraph.utils import save_model, restore_model\n",
    "import pandas as pd\n",
    "import numpy as np"
   ]
  },
  {
   "cell_type": "code",
   "execution_count": null,
   "metadata": {},
   "outputs": [],
   "source": [
    "with open('actual_team.json', 'rb') as jsonfile:\n",
    "    data = json.load(jsonfile)\n",
    "    data = pd.DataFrame(data)"
   ]
  },
  {
   "cell_type": "code",
   "execution_count": null,
   "metadata": {},
   "outputs": [],
   "source": [
    "with open('team_test_data/TeamRec_Liu_hitnohit_moodle.json', 'rb') as jsonfile:\n",
    "    data_test = json.load(jsonfile)\n",
    "    data_test_df = pd.DataFrame(data_test)"
   ]
  },
  {
   "cell_type": "code",
   "execution_count": null,
   "metadata": {},
   "outputs": [],
   "source": [
    "with open('dev_rerank_search_result.json', 'rb') as jsonfile:\n",
    "    t = json.load(jsonfile)"
   ]
  },
  {
   "cell_type": "code",
   "execution_count": null,
   "metadata": {},
   "outputs": [],
   "source": [
    "issue_test = data[data['issue'].isin(data_test_df['issue'])].values.tolist()"
   ]
  },
  {
   "cell_type": "code",
   "execution_count": null,
   "metadata": {},
   "outputs": [],
   "source": [
    "triples_test = []\n",
    "for d in issue_test:\n",
    "    for role in d[1][0]['team']:\n",
    "        if role!='assignee':\n",
    "            for user in d[1][0]['team'][role]:\n",
    "                triples_test.append((d[0], role, user))"
   ]
  },
  {
   "cell_type": "code",
   "execution_count": null,
   "metadata": {},
   "outputs": [],
   "source": [
    "triples_test = pd.DataFrame(triples_test, columns=['u', 'edge', 'v'])\n",
    "triples_test = triples_test.replace({'reviewer': 'peer', 'developer': 'dev'})"
   ]
  },
  {
   "cell_type": "code",
   "execution_count": null,
   "metadata": {},
   "outputs": [],
   "source": [
    "triples = pd.read_csv('triple/subtriples05-5.csv')\n",
    "triples = triples.dropna()"
   ]
  },
  {
   "cell_type": "code",
   "execution_count": null,
   "metadata": {},
   "outputs": [],
   "source": [
    "triples_test.head()"
   ]
  },
  {
   "cell_type": "code",
   "execution_count": null,
   "metadata": {},
   "outputs": [],
   "source": [
    "triples.head()"
   ]
  },
  {
   "cell_type": "code",
   "execution_count": null,
   "metadata": {},
   "outputs": [],
   "source": [
    "triples.shape"
   ]
  },
  {
   "cell_type": "code",
   "execution_count": null,
   "metadata": {},
   "outputs": [],
   "source": [
    "index1 = pd.MultiIndex.from_arrays([triples[col] for col in ['u', 'edge', 'v']])\n",
    "index2 = pd.MultiIndex.from_arrays([triples_test[col] for col in ['u', 'edge', 'v']])\n",
    "X_train = triples.loc[~index1.isin(index2)].to_numpy()"
   ]
  },
  {
   "cell_type": "code",
   "execution_count": null,
   "metadata": {},
   "outputs": [],
   "source": [
    "X_train.shape"
   ]
  },
  {
   "cell_type": "markdown",
   "metadata": {},
   "source": [
    "## Candidates"
   ]
  },
  {
   "cell_type": "code",
   "execution_count": null,
   "metadata": {},
   "outputs": [],
   "source": [
    "user_work = pd.read_csv('user_work_triples.csv')"
   ]
  },
  {
   "cell_type": "code",
   "execution_count": null,
   "metadata": {},
   "outputs": [],
   "source": [
    "user_work['project'] = user_work['u'].apply(lambda x: x.split('-')[0])"
   ]
  },
  {
   "cell_type": "code",
   "execution_count": null,
   "metadata": {},
   "outputs": [],
   "source": [
    "# all candidates\n",
    "candidate = dict()\n",
    "candidate['dev'] = user_work[user_work['edge']=='dev']['v'].unique()\n",
    "candidate['integrator'] = user_work[user_work['edge']=='integrator']['v'].unique()\n",
    "candidate['peer'] = user_work[user_work['edge']=='peer']['v'].unique()\n",
    "candidate['tester'] = user_work[user_work['edge']=='tester']['v'].unique()"
   ]
  },
  {
   "cell_type": "code",
   "execution_count": null,
   "metadata": {},
   "outputs": [],
   "source": [
    "# activeness candidates\n",
    "# run all candidates first\n",
    "change_log = pd.read_csv('changelog.csv', engine='python')\n",
    "change_log['timecreated'] = pd.to_datetime(change_log['timecreated'])\n",
    "issue_information = pd.read_csv('issueinformation.csv', sep=';')\n",
    "issue_information['createdate'] = pd.to_datetime(issue_information['createdate'])"
   ]
  },
  {
   "cell_type": "code",
   "execution_count": null,
   "metadata": {},
   "outputs": [],
   "source": [
    "def activeness_candidate(issue, period=90):\n",
    "    issue_create_date = issue_information[issue_information['issuekey']==issue]['createdate'].values[0]\n",
    "    date_diff = issue_create_date - pd.to_timedelta(period, unit='D')\n",
    "    candidate_active = change_log[(change_log['timecreated']>=date_diff) & (change_log['timecreated']<issue_create_date)]\n",
    "    return candidate_active.drop_duplicates(subset=\"username\")['username'].values.tolist()"
   ]
  },
  {
   "cell_type": "code",
   "execution_count": null,
   "metadata": {},
   "outputs": [],
   "source": [
    "# project candidates\n",
    "candidate = {project: dict() for project in user_work['project'].unique()}\n",
    "for project in candidate:\n",
    "    for role in user_work['edge'].unique():\n",
    "        if role!='assignee':\n",
    "            candidate[project][role] = list(user_work[(user_work['project']==project) & (user_work['edge']==role)]['v'].unique())"
   ]
  },
  {
   "cell_type": "markdown",
   "metadata": {},
   "source": [
    "## Model"
   ]
  },
  {
   "cell_type": "code",
   "execution_count": null,
   "metadata": {},
   "outputs": [],
   "source": [
    "model = ConvKB(batches_count=100, seed=43, epochs=500, k=200, verbose=True)"
   ]
  },
  {
   "cell_type": "code",
   "execution_count": null,
   "metadata": {},
   "outputs": [],
   "source": [
    "model.fit(X_train)"
   ]
  },
  {
   "cell_type": "code",
   "execution_count": null,
   "metadata": {},
   "outputs": [],
   "source": [
    "save_model(model, model_name_path = './model/convKB/team_rec_sub5.model')"
   ]
  },
  {
   "cell_type": "code",
   "execution_count": null,
   "metadata": {},
   "outputs": [],
   "source": [
    "model = restore_model('./model/convKB/team_rec.model')"
   ]
  },
  {
   "cell_type": "code",
   "execution_count": null,
   "metadata": {},
   "outputs": [],
   "source": [
    "# for activeness candidates + project candidates\n",
    "test_role = 'dev'\n",
    "test_role_full = 'developer'\n",
    "search_result = data_test.copy()\n",
    "# finding issue's candidates\n",
    "user_active = dict()\n",
    "for search in tqdm(search_result):\n",
    "    project = search['issue'].split('-')[0]\n",
    "    user_with_activeness = set(activeness_candidate(search['issue'], period=90))\n",
    "    user_active[search['issue']] = list(set(candidate[project][test_role]).intersection(user_with_activeness))\n",
    "# recommend\n",
    "for i in tqdm(range(len(search_result))):\n",
    "    result = model.predict([(search_result[i]['issue'], test_role, user) for user in user_active[search_result[i]['issue']]])\n",
    "    try:\n",
    "        score = sorted(zip(user_active[search_result[i]['issue']], result), reverse=True, key=lambda x: x[1])\n",
    "    except:\n",
    "        score = sorted(zip(user_active[search_result[i]['issue']], [result]), reverse=True, key=lambda x: x[1])\n",
    "    for j in range(len(search_result[i]['r'])):\n",
    "        if len(search_result[i]['r'][j]['team'][test_role_full])>1 and score[j][0] in search_result[i]['r'][j]['team'][test_role_full][1:]:\n",
    "            score.pop(j)\n",
    "        # no more candidate\n",
    "        try:\n",
    "            search_result[i]['r'][j]['team'][test_role_full][0] = score[j][0]\n",
    "        except IndexError:\n",
    "            search_result[i]['r'][j]['team'][test_role_full][0] = 'no_user'"
   ]
  },
  {
   "cell_type": "code",
   "execution_count": null,
   "metadata": {},
   "outputs": [],
   "source": [
    "with open('dev_test.json', 'w') as outfile:\n",
    "    json.dump(search_result, outfile)"
   ]
  }
 ],
 "metadata": {
  "kernelspec": {
   "display_name": "Python 3",
   "language": "python",
   "name": "python3"
  },
  "language_info": {
   "codemirror_mode": {
    "name": "ipython",
    "version": 3
   },
   "file_extension": ".py",
   "mimetype": "text/x-python",
   "name": "python",
   "nbconvert_exporter": "python",
   "pygments_lexer": "ipython3",
   "version": "3.7.9"
  }
 },
 "nbformat": 4,
 "nbformat_minor": 4
}
