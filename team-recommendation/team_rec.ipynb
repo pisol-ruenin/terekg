{
 "cells": [
  {
   "cell_type": "code",
   "execution_count": null,
   "metadata": {},
   "outputs": [],
   "source": [
    "import pandas as pd\n",
    "import hashlib\n",
    "import datetime as dt\n",
    "import numpy as np\n",
    "import random\n",
    "import json\n",
    "import math\n",
    "from tqdm import tqdm\n",
    "import pickle"
   ]
  },
  {
   "cell_type": "code",
   "execution_count": null,
   "metadata": {},
   "outputs": [],
   "source": [
    "from ampligraph.utils import restore_model"
   ]
  },
  {
   "cell_type": "code",
   "execution_count": null,
   "metadata": {},
   "outputs": [],
   "source": [
    "import tensorflow as tf \n",
    "\n",
    "if tf.test.gpu_device_name(): \n",
    "    print('Default GPU Device: {}'.format(tf.test.gpu_device_name()))\n",
    "\n",
    "else:\n",
    "    print(\"Please install GPU version of TF\")"
   ]
  },
  {
   "cell_type": "markdown",
   "metadata": {},
   "source": [
    "## Candidates"
   ]
  },
  {
   "cell_type": "code",
   "execution_count": null,
   "metadata": {},
   "outputs": [],
   "source": [
    "user_work = pd.read_csv('user_work_triples.csv')"
   ]
  },
  {
   "cell_type": "code",
   "execution_count": null,
   "metadata": {},
   "outputs": [],
   "source": [
    "user_work['project'] = user_work['u'].apply(lambda x: x.split('-')[0])"
   ]
  },
  {
   "cell_type": "code",
   "execution_count": null,
   "metadata": {},
   "outputs": [],
   "source": [
    "def activeness_candidate(issue, period=90):\n",
    "    issue_create_date = issue_information[issue_information['issuekey']==issue]['createdate'].values[0]\n",
    "    date_diff = issue_create_date - pd.to_timedelta(period, unit='D')\n",
    "    candidate_active = change_log[(change_log['timecreated']>=date_diff) & (change_log['timecreated']<issue_create_date)]\n",
    "    return candidate_active.drop_duplicates(subset=\"username\")['username'].values.tolist()"
   ]
  },
  {
   "cell_type": "code",
   "execution_count": null,
   "metadata": {},
   "outputs": [],
   "source": [
    "# all candidates\n",
    "candidate = dict()\n",
    "candidate['dev'] = user_work[user_work['edge']=='dev']['v'].unique()\n",
    "candidate['integrator'] = user_work[user_work['edge']=='integrator']['v'].unique()\n",
    "candidate['peer'] = user_work[user_work['edge']=='peer']['v'].unique()\n",
    "candidate['tester'] = user_work[user_work['edge']=='tester']['v'].unique()"
   ]
  },
  {
   "cell_type": "code",
   "execution_count": null,
   "metadata": {},
   "outputs": [],
   "source": [
    "# activeness candidates\n",
    "# run all candidates first\n",
    "change_log = pd.read_csv('changelog.csv', engine='python')\n",
    "change_log['timecreated'] = pd.to_datetime(change_log['timecreated'])\n",
    "issue_information = pd.read_csv('issueinformation.csv', sep=';')\n",
    "issue_information['createdate'] = pd.to_datetime(issue_information['createdate'])"
   ]
  },
  {
   "cell_type": "code",
   "execution_count": null,
   "metadata": {},
   "outputs": [],
   "source": [
    "# project candidates\n",
    "candidate = {project: dict() for project in user_work['project'].unique()}\n",
    "for project in candidate:\n",
    "    for role in user_work['edge'].unique():\n",
    "        if role!='assignee':\n",
    "            candidate[project][role] = list(user_work[(user_work['project']==project) & (user_work['edge']==role)]['v'].unique())"
   ]
  },
  {
   "cell_type": "markdown",
   "metadata": {},
   "source": [
    "## Load model"
   ]
  },
  {
   "cell_type": "code",
   "execution_count": null,
   "metadata": {},
   "outputs": [],
   "source": [
    "model = restore_model('./model/convKB/team_rec_sub5.model')"
   ]
  },
  {
   "cell_type": "markdown",
   "metadata": {},
   "source": [
    "## Precompute cost"
   ]
  },
  {
   "cell_type": "code",
   "execution_count": null,
   "metadata": {},
   "outputs": [],
   "source": [
    "with open('team_test_data/TeamRec_Liu_hitnohit_moodle.json', 'rb') as jsonfile:\n",
    "    data_test = json.load(jsonfile)"
   ]
  },
  {
   "cell_type": "code",
   "execution_count": null,
   "metadata": {},
   "outputs": [],
   "source": [
    "issue_test = [i['issue'] for i in data_test]"
   ]
  },
  {
   "cell_type": "code",
   "execution_count": null,
   "metadata": {},
   "outputs": [],
   "source": [
    "user_active = dict()\n",
    "roles = ['dev', 'peer', 'integrator', 'tester']\n",
    "for issue in tqdm(issue_test):\n",
    "    project = issue.split('-')[0]\n",
    "    user_with_activeness = set(activeness_candidate(issue, period=90))\n",
    "    user_active[issue] = dict()\n",
    "    for role in roles:\n",
    "        user_active[issue][role] = list(set(candidate[project][role]).intersection(user_with_activeness))"
   ]
  },
  {
   "cell_type": "code",
   "execution_count": null,
   "metadata": {},
   "outputs": [],
   "source": [
    "score_pre = dict()\n",
    "for issue in tqdm(user_active):\n",
    "    score_pre[issue] = dict()\n",
    "    for role in user_active[issue]:\n",
    "        score_pre[issue][role] = dict()\n",
    "        triple = []\n",
    "        username = user_active[issue][role]\n",
    "        for user in username:\n",
    "            triple.append([issue, role, user])\n",
    "        if len(triple)!=0:\n",
    "            score = model.predict(np.array(triple))\n",
    "        for idx in range(len(username)):\n",
    "            score_pre[issue][role][username[idx]] = score[idx]\n",
    "\n",
    "        score_pre[issue][role] = dict(sorted(score_pre[issue][role].items(), reverse=True, key=lambda x: x[1]))\n",
    "        for index, user in enumerate(score_pre[issue][role]):\n",
    "            score_pre[issue][role][user] = ((index+1)/len(score_pre[issue][role]), score_pre[issue][role][user])\n"
   ]
  },
  {
   "cell_type": "code",
   "execution_count": null,
   "metadata": {},
   "outputs": [],
   "source": [
    "# compute score\n",
    "score_pre = dict()\n",
    "for issue in tqdm(user_active):\n",
    "    score_pre[issue] = dict()\n",
    "    for role in user_active[issue]:\n",
    "        score_pre[issue][role] = dict()\n",
    "        for user in user_active[issue][role]:\n",
    "            triple = (issue, role, user)\n",
    "            score = model.predict(triple)\n",
    "            score_pre[issue][role][user] = score\n",
    "        score_pre[issue][role] = dict(sorted(score_pre[issue][role].items(), reverse=True, key=lambda x: x[1]))\n",
    "        for index, user in enumerate(score_pre[issue][role]):\n",
    "            score_pre[issue][role][user] = ((index+1)/len(score_pre[issue][role]), score_pre[issue][role][user])"
   ]
  },
  {
   "cell_type": "code",
   "execution_count": null,
   "metadata": {},
   "outputs": [],
   "source": []
  },
  {
   "cell_type": "code",
   "execution_count": null,
   "metadata": {},
   "outputs": [],
   "source": [
    "with open('candidate_score_sub5.pkl', 'wb') as fp:\n",
    "    pickle.dump(score_pre, fp)"
   ]
  },
  {
   "cell_type": "code",
   "execution_count": null,
   "metadata": {},
   "outputs": [],
   "source": [
    "with open('candidate_score_sub5.pkl', 'rb') as fp:\n",
    "    score_pre = pickle.load(fp)"
   ]
  },
  {
   "cell_type": "markdown",
   "metadata": {},
   "source": [
    "## Cost function"
   ]
  },
  {
   "cell_type": "code",
   "execution_count": null,
   "metadata": {},
   "outputs": [],
   "source": [
    "def cost(model, team, issue, score):\n",
    "    scores = []\n",
    "    for role in team:\n",
    "        if role=='assignee':\n",
    "            continue\n",
    "        r = role.rstrip('1234567890')\n",
    "#         print(score)\n",
    "        scores.append(score[r][team[role]][0])\n",
    "    \n",
    "    score_final = np.sum(scores)\n",
    "    return score_final"
   ]
  },
  {
   "cell_type": "code",
   "execution_count": null,
   "metadata": {},
   "outputs": [],
   "source": [
    "user_collab = pd.read_csv('./team.csv')\n",
    "assignee = pd.read_csv('./assignee.csv', sep=';')\n",
    "user_collab = user_collab.set_index('issuekey').join(assignee.set_index('issuekey')).reset_index()\n",
    "user_collab.columns = ['issuekey', 'dev', 'integrator', 'peer', 'tester', 'assignee']\n",
    "\n",
    "def collaboration(candidate, assignee):\n",
    "    roles = ['dev', 'peer', 'integrator', 'tester', 'assignee']\n",
    "    collab_freq = dict()\n",
    "    for role in candidate:\n",
    "        collab_freq[role] = dict()\n",
    "        for user in candidate[role]:\n",
    "            if user!=assignee:\n",
    "                user_filter = user_collab[user_collab.isin([user]).any(axis=1)]\n",
    "            else:\n",
    "                user_filter = user_collab[user_collab.drop(['assignee'], axis=1).isin([user]).any(axis=1)]\n",
    "            count = user_filter[user_filter.isin([assignee]).any(axis=1)].shape[0]\n",
    "            collab_freq[role][user] = count\n",
    "        \n",
    "    return collab_freq\n",
    "\n",
    "def rerank(score, collab_freq, mean_collab):\n",
    "    result = dict()\n",
    "    for role in score:\n",
    "        upper = []\n",
    "        lower = []\n",
    "        for user in score[role]:\n",
    "            if collab_freq[role][user] >= mean_collab[role]:\n",
    "                upper.append(user)\n",
    "            else:\n",
    "                lower.append(user)\n",
    "        all_c = upper + lower\n",
    "        result[role] = {all_c[i]: (i+1, score[role][all_c[i]][1]) for i in range(len(all_c))}\n",
    "        \n",
    "    return result    "
   ]
  },
  {
   "cell_type": "code",
   "execution_count": null,
   "metadata": {},
   "outputs": [],
   "source": [
    "def format_output(team,rank):\n",
    "    \n",
    "    # filter out all duplicate team\n",
    "    hashteam = set()\n",
    "    temp = []\n",
    "    for t,s,f in team:\n",
    "        t_sorted = {i:sorted(t[i]) if type(t[i]) == list else t[i] for i in t}\n",
    "        ## hash team\n",
    "        t_hash = hashlib.sha1(json.dumps(t_sorted, sort_keys=True).encode()).hexdigest()\n",
    "        if t_hash not in hashteam:\n",
    "            hashteam.add(t_hash)\n",
    "            temp.append((t,s,f))\n",
    "    team = temp\n",
    "    team = team[:min(len(team),rank)]\n",
    "    rank = []\n",
    "    rankno=1\n",
    "    team.sort(key=lambda tup: tup[1]) \n",
    "    for team,score,feature in team:\n",
    "        rankdict = {'rank':rankno,'team':{'developer':[],'integrator':[],'tester':[],'reviewer':[],'assignee':[]},'cost':score,'features':feature}\n",
    "        for r in team:\n",
    "            if r =='assignee':\n",
    "                rankdict['team']['assignee'].append(team[r])\n",
    "            elif r.startswith('dev'):\n",
    "                rankdict['team']['developer'].append(team[r])\n",
    "            elif r.startswith('integrator'):\n",
    "                rankdict['team']['integrator'].append(team[r])\n",
    "            elif r.startswith('peer'):\n",
    "                rankdict['team']['reviewer'].append(team[r])\n",
    "            elif r.startswith('tester'):\n",
    "                rankdict['team']['tester'].append(team[r])\n",
    "        rank.append(rankdict)\n",
    "        rankno=rankno+1\n",
    "    return rank"
   ]
  },
  {
   "cell_type": "markdown",
   "metadata": {},
   "source": [
    "## Maxlogit"
   ]
  },
  {
   "cell_type": "code",
   "execution_count": null,
   "metadata": {},
   "outputs": [],
   "source": [
    "def hash_team(team):\n",
    "    t_sorted = {i:sorted(team[i]) if type(team[i]) == list else team[i] for i in team}\n",
    "    ## hash team\n",
    "    t_hash = hashlib.sha1(json.dumps(t_sorted, sort_keys=True).encode()).hexdigest()\n",
    "    return t_hash"
   ]
  },
  {
   "cell_type": "code",
   "execution_count": null,
   "metadata": {},
   "outputs": [],
   "source": [
    "def probability(costT,costTp,alpha): #16\n",
    "    try:\n",
    "        vt = math.exp(-costT/alpha) #17\n",
    "    except OverflowError:\n",
    "        vt = math.inf if costT<0 else 0\n",
    "    try:\n",
    "        vtp = math.exp(-costTp/alpha) #18\n",
    "    except OverflowError:\n",
    "        vtp = math.inf if costTp<0 else 0\n",
    "    if max(vt,vtp) !=0:\n",
    "        prob = vtp/max(vt,vtp) #19\n",
    "    else:\n",
    "        prob = 1\n",
    "    return prob #20"
   ]
  },
  {
   "cell_type": "code",
   "execution_count": null,
   "metadata": {},
   "outputs": [],
   "source": [
    "allteam_cache = {}\n",
    "def maxlogit(N,roles_pp,alpha,cost,issuekey, score, context='',component=''):\n",
    "    allteam_hash = set()\n",
    "    allteam = []#tor add\n",
    "\n",
    "    roles = [r for r in roles_pp] \n",
    "    roles.remove('assignee') # not random assignee\n",
    "    \n",
    "    T = {roles_pp[0]:random.choice(roles_pp[1]) for roles_pp in roles_pp.items()} #1\n",
    "    bestT = T #1\n",
    "    if issuekey!='':\n",
    "        cb = cost(model, bestT, issuekey, score)\n",
    "    else:\n",
    "        cb = cost(model, bestT, issuekey, score)\n",
    "        \n",
    "    \n",
    "    allteam.append((bestT,cb, None)) # tor add\n",
    "    allteam_cache[hash_team(bestT)] = cb # tor add\n",
    "\n",
    "    for i in range(1,N): #2\n",
    "#     if N > 0:\n",
    "        hashT = hash_team(T) #tor add\n",
    "        if issuekey!='':\n",
    "            c = cost(model, T, issuekey, score) if hashT not in allteam_cache else allteam_cache[hashT] #3 tor modified\n",
    "        else:\n",
    "            c = cost(model, T, issuekey, score) if hashT not in allteam_cache else allteam_cache[hashT] #3 tor modified\n",
    "                \n",
    "        Tp = T.copy() #4\n",
    "        randomrole = random.choice(roles) #4 modified by tor (not change assignee)\n",
    "        Tp[randomrole] = random.choice(roles_pp[randomrole]) #4\n",
    "        \n",
    "        # tor modified if team has been calculated before don't re calculate\n",
    "        hashTP = hash_team(Tp)\n",
    "                \n",
    "        if issuekey!='':\n",
    "            cp = cost(model, Tp, issuekey, score) if hashTP not in allteam_cache else allteam_cache[hashTP] #5 tor modified\n",
    "        else:\n",
    "            cp = cost(model, Tp, issuekey, score) if hashTP not in allteam_cache else allteam_cache[hashTP] #5 tor modified\n",
    "           \n",
    "        allteam.append((Tp,cp, None)) # tor add\n",
    "        allteam_cache[hashTP] = cp #tor add\n",
    "        \n",
    "        prob = probability(c,cp,alpha) #6\n",
    "        r = random.uniform(0, 1) #7\n",
    "        if r <= prob:#8\n",
    "            T = Tp #9\n",
    "            c = cp #9\n",
    "#             allteam.append((T,c)) # tor add\n",
    "            if c < cb: #10\n",
    "                bestT = T #11\n",
    "                cb = c #11\n",
    "#                 allteam.append((bestT,cb)) # tor add\n",
    "#     return bestT,cb\n",
    "    return allteam # tor modified"
   ]
  },
  {
   "cell_type": "code",
   "execution_count": null,
   "metadata": {},
   "outputs": [],
   "source": [
    "with open('team_test_data/TeamRec_Liu_hitnohit_moodle.json', 'rb') as jsonfile:\n",
    "    data_test = json.load(jsonfile)"
   ]
  },
  {
   "cell_type": "code",
   "execution_count": null,
   "metadata": {},
   "outputs": [],
   "source": [
    "def recommend(name, user, score):\n",
    "    \n",
    "    team = maxlogit(1000, user, 0.05, cost, issuekey=name, score=score)\n",
    "    team = format_output(team,100)\n",
    "    return {'issue': name, 'r': team}"
   ]
  },
  {
   "cell_type": "code",
   "execution_count": null,
   "metadata": {},
   "outputs": [],
   "source": [
    "team_rank = []\n",
    "reranking = True\n",
    "for issue in tqdm(data_test):\n",
    "    dev_n = len(issue['r'][0]['team']['developer'])\n",
    "    integrator_n = len(issue['r'][0]['team']['integrator'])\n",
    "    tester_n = len(issue['r'][0]['team']['tester'])\n",
    "    peer_n = len(issue['r'][0]['team']['reviewer'])\n",
    "    \n",
    "    assignee = issue['r'][0]['team']['assignee'][0]\n",
    "    \n",
    "    roles = ['dev', 'tester', 'peer','integrator']\n",
    "    user_active = dict()\n",
    "    user_with_activeness = set(activeness_candidate(issue['issue'], period=90))\n",
    "    project = issue['issue'].split('-')[0]\n",
    "    for role in roles:\n",
    "        user_active[role] = list(set(candidate[project][role]).intersection(user_with_activeness))\n",
    "    \n",
    "    role_count = {\n",
    "        'dev': dev_n,\n",
    "        'integrator': integrator_n,\n",
    "        'tester': tester_n,\n",
    "        'peer': peer_n,\n",
    "    }\n",
    "    \n",
    "    score_new = score_pre[issue['issue']].copy()\n",
    "    if reranking:\n",
    "                          \n",
    "        collab_freq = collaboration(score_new, assignee)\n",
    "        mean_collab = dict()\n",
    "        for role in collab_freq:\n",
    "            mean_collab[role] = np.array(list(collab_freq[role].values())).mean()\n",
    "        score_new = rerank(score_new, collab_freq, mean_collab)\n",
    "    \n",
    "    for role in role_count:\n",
    "        if role_count[role]>1:\n",
    "            for count in range(2, role_count[role]+1):\n",
    "                user_active[role+str(count)] = user_active[role].copy()\n",
    "        elif role_count[role]==0:\n",
    "            del user_active[role]\n",
    "            \n",
    "    user_active['assignee'] = [assignee]\n",
    "        \n",
    "    team_recommend = recommend(issue['issue'], user_active, score_new)\n",
    "                \n",
    "    team_rank.append(team_recommend)"
   ]
  },
  {
   "cell_type": "code",
   "execution_count": null,
   "metadata": {},
   "outputs": [],
   "source": [
    "import numpy\n",
    "def convert(o):\n",
    "    if isinstance(o, numpy.int64): return int(o)  \n",
    "    raise TypeError\n",
    "    \n",
    "with open('team_rec_sum_rerank_sub5.json', 'w') as outfile:\n",
    "    json.dump(team_rank, outfile, default=convert)"
   ]
  },
  {
   "cell_type": "code",
   "execution_count": null,
   "metadata": {},
   "outputs": [],
   "source": []
  }
 ],
 "metadata": {
  "kernelspec": {
   "display_name": "Python 3",
   "language": "python",
   "name": "python3"
  },
  "language_info": {
   "codemirror_mode": {
    "name": "ipython",
    "version": 3
   },
   "file_extension": ".py",
   "mimetype": "text/x-python",
   "name": "python",
   "nbconvert_exporter": "python",
   "pygments_lexer": "ipython3",
   "version": "3.7.9"
  }
 },
 "nbformat": 4,
 "nbformat_minor": 4
}
